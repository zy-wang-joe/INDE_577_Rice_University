{
 "cells": [
  {
   "cell_type": "markdown",
   "metadata": {},
   "source": [
    "---\n",
    "## Multilayer Neural Network and Stochastic/Mini Batch Gradient Descent\n",
    "#### Author: Zheyi Wang\n",
    "---"
   ]
  },
  {
   "cell_type": "markdown",
   "metadata": {},
   "source": [
    "### Table of Contents\n",
    "- [Introduction](#Introduction)\n",
    "- [Algorithm](#Algorithm)\n",
    "    - [Multilayer Neural Network](#Multilayer)\n",
    "    - [Batch Gradient Descent](#Batch)\n",
    "    - [Stochastic Gradient Descent](#Stochastic)\n",
    "    - [Mini Batch Gradient Descent](#Mini)\n",
    "- [Illustration](#Illustration)\n",
    "- [Advantages and Disadvantages of Multilayer Neural Network](#Advantages)\n",
    "    - [Advantages](#Advantages)\n",
    "    - [Disadvantages](#Disadvantages)\n",
    "- [Comparison of Gradient Descent Methods](#Comparison)\n",
    "- [Code of Multilayer Neural Network and Gradient Descent](#Code)\n",
    "- [Applications on data sets](#Applications)\n",
    "--- "
   ]
  },
  {
   "cell_type": "markdown",
   "metadata": {},
   "source": [
    "### Introduction <a class=\"anchor\" id=\"Introduction\"></a>\n",
    "\n",
    "A [multilayer neural network](https://en.wikipedia.org/wiki/Multilayer_perceptron) (or multilayer perceptron ,MLP) is a class of feedforward artificial neural network (ANN). It's an extension of perceptrons, with more layers and non-linear activation functions.\n",
    "\n",
    "---"
   ]
  },
  {
   "cell_type": "markdown",
   "metadata": {},
   "source": [
    "### Algorithm <a class=\"anchor\" id=\"Algorithm\"></a>\n",
    "\n",
    "#### Multilayer Neural Network <a class=\"anchor\" id=\"Multilayer\"></a>\n",
    "\n",
    "First, a multilayer neural network has a non-linear activation function in most cases, and *sigmoid* ($\\sigma(\\cdot)$), *hyperbolic tangent* ($tanh(\\cdot)$) and *rectified linear* ($RELU(\\cdot)$) activation functions are widely used.\n",
    "$$\n",
    "\\sigma(x) = \\frac{1}{1 + e^{-x}}\n",
    "$$\n",
    "\n",
    "$$\n",
    "tanh(x) = \\frac{e^x-e^{-x}}{e^x+e^{-x}}\n",
    "$$\n",
    "\n",
    "$$\n",
    "RELU(x) = \\begin{cases} x & \\text{if}\\ x > 0,\\\\0 & \\text{otherwise}\\end{cases}\n",
    "$$\n",
    "\n",
    "Further, a MLP consists of many layers (an input and an output layer with one or more hidden layers) of non-linear activating nodes. Since MLPs are fully connected, each node in one layer connects with a certain weight to every node in the following layer.\n",
    "\n",
    "Learning occurs in MLP by changing connection weights after each piece of data is processed, based on the amount of error in the output compared to the expected result. This is a supervised learning, and is carried out through [backpropagation](https://en.wikipedia.org/wiki/Backpropagation), a generalization of the least mean squares algorithm in the linear perceptron.\n",
    "\n",
    "The basic idea of backpropagation is to take advantage of the [Chain Rule](https://en.wikipedia.org/wiki/Chain_rule) to derive derivative of each layers, from end to start.\n",
    "\n",
    "Error in an output node $j$ in the $n$ th training example by $e_j(n)=d_j(n)-y_j(n)$, where $d$ is the target value and $y$ is the value produced by the perceptron. The node weights can be adjusted by minimizing the sum square error in the entire output, given by\n",
    "\n",
    "$$\\mathcal{E}(n)=\\frac{1}{2}\\sum_j e_j^2(n)$$\n",
    "\n",
    "Using gradient descent, the change in each weight of output layer is\n",
    "\n",
    "$$\\Delta w_{ji} (n) = -\\gamma\\frac{\\partial\\mathcal{E}(n)}{\\partial v_j(n)} y_i(n)$$\n",
    "\n",
    "where $y_i$ is the output of the previous neuron, $\\gamma$ is the *learning rate*, $v_j$ is the output of output layer.\n",
    "\n",
    "It is easy to prove that for an output node this derivative can be simplified to\n",
    "\n",
    "$$-\\frac{\\partial\\mathcal{E}(n)}{\\partial v_j(n)} = e_j(n)\\phi^\\prime (v_j(n))$$\n",
    "\n",
    "where $\\phi^\\prime$ is the derivative of the activation function described above, which itself does not vary. For hidden nodes, it can be shown that the relevant derivative is\n",
    "\n",
    "$$-\\frac{\\partial\\mathcal{E}(n)}{\\partial v_j(n)} = \\phi^\\prime (v_j(n))\\sum_k -\\frac{\\partial\\mathcal{E}(n)}{\\partial v_k(n)} w_{kj}(n)$$"
   ]
  },
  {
   "cell_type": "markdown",
   "metadata": {},
   "source": [
    "#### Batch Gradient Descent <a class=\"anchor\" id=\"Batch\"></a>\n",
    "\n",
    "Batch gradient descent just take all the training data in every step of gradient descent, so it's just the basic form of gradient descent descussed in the **Gradient \n",
    "Descent** ssection."
   ]
  },
  {
   "cell_type": "markdown",
   "metadata": {},
   "source": [
    "#### Stochastic Gradient Descent <a class=\"anchor\" id=\"Stochastic\"></a>\n",
    "\n",
    "Stochastic Gradient Descent (SGD) considers one random sample in every step. As only one sample is used, the loss will not necessarily decrease. But the loss will decrease in a long training period. SGD generally converges faster when the dataset is large as it causes updates to the parameters more frequently."
   ]
  },
  {
   "cell_type": "markdown",
   "metadata": {},
   "source": [
    "#### Mini Batch Gradient Descent <a class=\"anchor\" id=\"Mini\"></a>\n",
    "\n",
    "Mini Batch Gradient Descent considers a fixed size of random samples in every step. It's a trde-off of Batch and Stochastic Gradient Descent."
   ]
  },
  {
   "cell_type": "markdown",
   "metadata": {},
   "source": [
    "---\n",
    "### Illustration <a class=\"anchor\" id=\"Illustration\"></a>\n",
    "\n",
    "**Multilayer Neural Network**\n",
    "\n",
    "A multilayer neural network is multilayer of perceptrons. It consists an input layer (L1), several hidden layers (L2), output layer (L3), fully connected weights and non-linear activation function.\n",
    "\n",
    "<img src=\"images/multilayer_neural_network_illustration.png\" alt=\"drawing\" width=\"600\"/>"
   ]
  },
  {
   "cell_type": "markdown",
   "metadata": {},
   "source": [
    "---\n",
    "### Advantages and Disadvantages of Multilayer Neural Network <a class=\"anchor\" id=\"Advantages\"></a>\n",
    "\n",
    "#### Advantage of Multilayer Neural Network <a class=\"anchor\" id=\"Advantages\"></a>\n",
    "- Learn non-linear and complex relationships.\n",
    "- Fit all continous function, if the hidden layer is more than 2.\n",
    "- Can work on both classification and regression\n",
    "#### Disadvantage of Perceptron <a class=\"anchor\" id=\"Disadvantage\"></a>\n",
    "- Too many parameters to turn\n",
    "- Large model complexity if number of layers and neurons are large\n",
    "- Slow training process if model is large\n",
    "- Easy to overfit.\n"
   ]
  },
  {
   "cell_type": "markdown",
   "metadata": {},
   "source": [
    "---\n",
    "### Comparison of Gradient Descent Methods <a class=\"anchor\" id=\"Comparison\"></a>\n",
    "\n",
    "#### Advantages of Batch Gradient Descent\n",
    "- Can fix learning rate during training.\n",
    "- Guaranteed convergency.\n",
    "- Unbiased estimator of gradients.\n",
    "\n",
    "#### Disadvantages of Batch Gradient Descent\n",
    "- Slow on large data set.\n",
    "- Waste time on some data which have little attribution to weights update.\n",
    "\n",
    "#### Advantages of Stochastic Gradient Descent\n",
    "- Fastest to run\n",
    "- Avoid redundant samples\n",
    "- Most noise added\n",
    "\n",
    "#### Disadvantages of Stochastic Gradient Descent\n",
    "- No guaranteed convergency.\n",
    "- More oscillations in training\n",
    "\n",
    "#### Advantages of Mini Batch Gradient Descent\n",
    "- Faster to run\n",
    "- Avoid redundant samples\n",
    "\n",
    "#### Disadvantages of Mini Batch Gradient Descent\n",
    "- No guaranteed convergency.\n",
    "- More oscillations in training\n",
    "- More noise added"
   ]
  },
  {
   "cell_type": "markdown",
   "metadata": {},
   "source": [
    "---\n",
    "\n",
    "### Code of MLP <a class=\"anchor\" id=\"Code\"></a>\n",
    "\n",
    "#### import necessary packages\n",
    "* [numpy](https://numpy.org/)\n",
    "* [pandas](https://pandas.pydata.org/)\n",
    "* [sklearn](https://scikit-learn.org/stable/datasets/toy_dataset.html)\n",
    "* [keras](https://keras.io/)\n",
    "* [matplotlib](https://matplotlib.org/)"
   ]
  },
  {
   "cell_type": "code",
   "execution_count": 1,
   "metadata": {},
   "outputs": [],
   "source": [
    "import matplotlib.pyplot as plt\n",
    "import pandas as pd\n",
    "import numpy as np\n",
    "from sklearn import datasets\n",
    "from sklearn.model_selection import train_test_split\n",
    "from keras.datasets import fashion_mnist\n",
    "\n",
    "from sklearn.metrics import accuracy_score\n",
    "from sklearn import metrics\n",
    "from sklearn.preprocessing import StandardScaler\n",
    "import seaborn as sns"
   ]
  },
  {
   "cell_type": "code",
   "execution_count": 2,
   "metadata": {},
   "outputs": [],
   "source": [
    "class MultilayerPerceptron():\n",
    "  \n",
    "    def __init__(self, layers = [784, 60, 60, 10], actFun_type='relu'):\n",
    "        self.actFun_type = actFun_type\n",
    "        self.layers = layers\n",
    "        self.L = len(self.layers)\n",
    "        self.W =[[0.0]]\n",
    "        self.B = [[0.0]]\n",
    "        for i in range(1, self.L):\n",
    "            w_temp = np.random.randn(self.layers[i], self.layers[i-1]) * np.sqrt(2/self.layers[i-1])\n",
    "            b_temp = np.random.randn(self.layers[i], 1) * np.sqrt(2/self.layers[i-1])\n",
    "\n",
    "            self.W.append(w_temp)\n",
    "            self.B.append(b_temp)\n",
    "\n",
    "    def reset_weights(self, layers = [784, 60, 60, 10]):\n",
    "        self.layers = layers\n",
    "        self.L = len(self.layers)\n",
    "        self.W = [[0.0]]\n",
    "        self.B = [[0.0]]\n",
    "        for i in range(1, self.L):\n",
    "            w_temp = np.random.randn(self.layers[i], self.layers[i-1])*np.sqrt(2/self.layers[i-1])\n",
    "            b_temp = np.random.randn(self.layers[i], 1)*np.sqrt(2/self.layers[i-1])\n",
    "\n",
    "            self.W.append(w_temp)\n",
    "            self.B.append(b_temp)\n",
    "\n",
    "    def forward_pass(self, p, predict_vector = False):\n",
    "        Z =[[0.0]]\n",
    "        A = [p[0]]\n",
    "        for i in range(1, self.L):\n",
    "            z = (self.W[i] @ A[i-1]) + self.B[i]\n",
    "            a = self.actFun(z, self.actFun_type)\n",
    "            Z.append(z)\n",
    "            A.append(a)\n",
    "\n",
    "        if predict_vector == True:\n",
    "            return A[-1]\n",
    "        else:\n",
    "            return Z, A\n",
    "\n",
    "    def mse(self, a, y):\n",
    "        return .5*sum((a[i]-y[i])**2 for i in range(10))[0]\n",
    "\n",
    "    def MSE(self, data):\n",
    "        c = 0.0\n",
    "        for p in data:\n",
    "            a = self.forward_pass(p, predict_vector=True)\n",
    "            c += self.mse(a, p[1])\n",
    "        return c/len(data)\n",
    "\n",
    "    def actFun(self, z, type):\n",
    "        if type == 'tanh':\n",
    "            return np.tanh(z)\n",
    "        elif type == 'sigmoid':\n",
    "            return 1.0 / (1.0 + np.exp(-z))\n",
    "        elif type == 'relu':\n",
    "            return np.maximum(0, z)\n",
    "        else:\n",
    "            return None\n",
    "\n",
    "    def diff_actFun(self, z, type):\n",
    "        if type == 'tanh':\n",
    "            return 1.0 - (np.tanh(z))**2\n",
    "        elif type == 'sigmoid':\n",
    "            return self.actFun(z, type) * (1-self.actFun(z, type))\n",
    "        elif type == 'relu':\n",
    "            return np.where(z > 0, 1.0, 0)\n",
    "        else:\n",
    "            return None\n",
    "\n",
    "    def deltas_dict(self, p):\n",
    "        Z, A = self.forward_pass(p)\n",
    "        deltas = dict()\n",
    "        deltas[self.L-1] = (A[-1] - p[1])*self.diff_actFun(Z[-1], self.actFun_type)\n",
    "        for l in range(self.L-2, 0, -1):\n",
    "            deltas[l] = (self.W[l+1].T @ deltas[l+1]) *self.diff_actFun(Z[l], self.actFun_type)\n",
    "\n",
    "        return A, deltas\n",
    "\n",
    "    def stochastic_gradient_descent(self, data, alpha = 0.04, epochs = 3):\n",
    "        print(f\"Initial Cost = {self.MSE(data)}\")\n",
    "        for k in range(epochs):\n",
    "            for p in data:\n",
    "                A, deltas = self.deltas_dict(p)\n",
    "                for i in range(1, self.L):\n",
    "                    self.W[i] = self.W[i] - alpha*deltas[i]@A[i-1].T\n",
    "                    self.B[i] = self.B[i] - alpha*deltas[i]\n",
    "        print(f\"{k} Cost = {self.MSE(data)}\")\n",
    "\n",
    "\n",
    "    def mini_batch_gradient_descent(self, data, batch_size = 15, alpha = 0.04, epochs = 3):\n",
    "        print(f\"Initial Cost = {self.MSE(data)}\")\n",
    "        data_length = len(data)\n",
    "        for k in range(epochs):\n",
    "            for j in range(0, data_length-batch_size, batch_size):\n",
    "                delta_list = []\n",
    "                A_list = []\n",
    "                for p in data[j:j+batch_size]:\n",
    "                    A, deltas = self.deltas_dict(p)\n",
    "                    delta_list.append(deltas)\n",
    "                    A_list.append(A)\n",
    "\n",
    "                for i in range(1, self.L):\n",
    "                    self.W[i] = self.W[i] - (alpha/batch_size)*sum(da[0][i]@da[1][i-1].T for da in zip(delta_list, A_list))\n",
    "                    self.B[i] = self.B[i] - (alpha/batch_size)*sum(deltas[i] for deltas in delta_list)\n",
    "            print(f\"{k} Cost = {self.MSE(data)}\")"
   ]
  },
  {
   "cell_type": "markdown",
   "metadata": {},
   "source": [
    "---\n",
    "\n",
    "### Applications on data sets <a class=\"anchor\" id=\"Applications\"></a>\n",
    "\n",
    "*Fashion MNIST* data set"
   ]
  },
  {
   "cell_type": "markdown",
   "metadata": {},
   "source": [
    "\n",
    "The *Fashion MNIST* data set is from keras. The dataset has 60,000 training data with 28x28 grayscale images and 10,000 test images. Images are labeled over 10 categories. The pixel depth allows 255 different intensities, with 0 being black and 255 being white. And the classes are: T-shirt/top, Trouser, Pullover, Dress, Coat, Sandal, Shirt, Sneaker, Bag, and Ankle boot with labels 0 to 9 respectively.\n",
    "\n",
    "---"
   ]
  },
  {
   "cell_type": "markdown",
   "metadata": {},
   "source": [
    "Load data set."
   ]
  },
  {
   "cell_type": "code",
   "execution_count": 3,
   "metadata": {},
   "outputs": [
    {
     "name": "stdout",
     "output_type": "stream",
     "text": [
      "Downloading data from https://storage.googleapis.com/tensorflow/tf-keras-datasets/train-labels-idx1-ubyte.gz\n",
      "29515/29515 [==============================] - 0s 0us/step\n",
      "Downloading data from https://storage.googleapis.com/tensorflow/tf-keras-datasets/train-images-idx3-ubyte.gz\n",
      "26421880/26421880 [==============================] - 1s 0us/step\n",
      "Downloading data from https://storage.googleapis.com/tensorflow/tf-keras-datasets/t10k-labels-idx1-ubyte.gz\n",
      "5148/5148 [==============================] - 0s 0s/step\n",
      "Downloading data from https://storage.googleapis.com/tensorflow/tf-keras-datasets/t10k-images-idx3-ubyte.gz\n",
      "4422102/4422102 [==============================] - 0s 0us/step\n"
     ]
    }
   ],
   "source": [
    "(train_X, train_y), (test_X, test_y) = fashion_mnist.load_data()"
   ]
  },
  {
   "cell_type": "markdown",
   "metadata": {},
   "source": [
    "check the shape of train_X. We have 60000 training pictures each with 28 by 28 pixel and grayscale\n"
   ]
  },
  {
   "cell_type": "code",
   "execution_count": 4,
   "metadata": {},
   "outputs": [
    {
     "data": {
      "text/plain": [
       "(60000, 28, 28)"
      ]
     },
     "execution_count": 4,
     "metadata": {},
     "output_type": "execute_result"
    }
   ],
   "source": [
    "train_X.shape"
   ]
  },
  {
   "cell_type": "markdown",
   "metadata": {},
   "source": [
    "Visualize the first image by putting the pixel together, and it is an Sandal."
   ]
  },
  {
   "cell_type": "code",
   "execution_count": 17,
   "metadata": {},
   "outputs": [
    {
     "name": "stdout",
     "output_type": "stream",
     "text": [
      "The label of this image is 5\n"
     ]
    },
    {
     "data": {
      "image/png": "[encoded data removed]",
      "text/plain": [
       "<Figure size 432x288 with 1 Axes>"
      ]
     },
     "metadata": {
      "needs_background": "light"
     },
     "output_type": "display_data"
    }
   ],
   "source": [
    "print(\"The label of this image is\",train_y[-1])\n",
    "plt.imshow(train_X[-1], cmap=\"gray\")\n",
    "plt.show()"
   ]
  },
  {
   "cell_type": "markdown",
   "metadata": {},
   "source": [
    "Scale images to $[0, 1]$"
   ]
  },
  {
   "cell_type": "code",
   "execution_count": 6,
   "metadata": {},
   "outputs": [],
   "source": [
    "train_X = train_X/255\n",
    "test_X = test_X/255"
   ]
  },
  {
   "cell_type": "markdown",
   "metadata": {},
   "source": [
    "Flatten images from matrix to a vector."
   ]
  },
  {
   "cell_type": "code",
   "execution_count": 7,
   "metadata": {},
   "outputs": [
    {
     "data": {
      "text/plain": [
       "(784, 1)"
      ]
     },
     "execution_count": 7,
     "metadata": {},
     "output_type": "execute_result"
    }
   ],
   "source": [
    "train_X[0].flatten().reshape(28*28, 1).shape"
   ]
  },
  {
   "cell_type": "markdown",
   "metadata": {},
   "source": [
    "Now we are ready to flatten the X matrix. Make a list first and then store the flatten vetors into it. And we also make the y to one hot encoded label vectors; we make a list and store the vectors into it.\n"
   ]
  },
  {
   "cell_type": "code",
   "execution_count": 8,
   "metadata": {},
   "outputs": [],
   "source": [
    "X = []\n",
    "for x in train_X:\n",
    "    X.append(x.flatten().reshape(28*28, 1))\n",
    "\n",
    "# Y will temp store one-hot encoded label vectors\n",
    "Y = []\n",
    "for y in train_y:\n",
    "    temp_vec = np.zeros((10, 1))\n",
    "    temp_vec[y][0] = 1.0\n",
    "    Y.append(temp_vec)\n",
    "\n",
    "# Our data will be stored as a list of tuples. \n",
    "train_data = [p for p in zip(X, Y)]\n",
    "\n",
    "# the same method to deal with test data\n",
    "X = []\n",
    "for x in test_X:\n",
    "  X.append(x.flatten().reshape(784, 1))\n",
    "\n",
    "Y = []\n",
    "for y in test_y:\n",
    "    temp_vec = np.zeros((10, 1))\n",
    "    temp_vec[y][0] = 1.0\n",
    "    Y.append(temp_vec)\n",
    "\n",
    "test_data = [p for p in zip(X, Y)]"
   ]
  },
  {
   "cell_type": "markdown",
   "metadata": {},
   "source": [
    "Now let's train MLP's using *sigmoid*, *hyperbolic tangent*, and *rectified linear* activation functions by mini batch gradient descent, and compare their performances."
   ]
  },
  {
   "cell_type": "code",
   "execution_count": 9,
   "metadata": {},
   "outputs": [
    {
     "name": "stdout",
     "output_type": "stream",
     "text": [
      "Initial Cost = 1.9806262761969937\n",
      "0 Cost = 0.17725314324826427\n",
      "1 Cost = 0.15513822290253607\n",
      "2 Cost = 0.14401367157058725\n",
      "3 Cost = 0.1365847189120189\n",
      "4 Cost = 0.13106097257662525\n"
     ]
    }
   ],
   "source": [
    "net_tanh = MultilayerPerceptron(layers=[784, 60, 60, 10], actFun_type='tanh')\n",
    "net_tanh.mini_batch_gradient_descent(train_data, batch_size = 16, alpha = 0.01, epochs = 5)"
   ]
  },
  {
   "cell_type": "code",
   "execution_count": 10,
   "metadata": {},
   "outputs": [
    {
     "data": {
      "text/plain": [
       "0.13896627995901442"
      ]
     },
     "execution_count": 10,
     "metadata": {},
     "output_type": "execute_result"
    }
   ],
   "source": [
    "net_tanh.MSE(test_data)"
   ]
  },
  {
   "cell_type": "code",
   "execution_count": 11,
   "metadata": {},
   "outputs": [
    {
     "name": "stdout",
     "output_type": "stream",
     "text": [
      "Initial Cost = 1.093360722603058\n",
      "0 Cost = 0.17922768355666172\n",
      "1 Cost = 0.16606189815365152\n",
      "2 Cost = 0.1578782979265935\n",
      "3 Cost = 0.15193768872215163\n",
      "4 Cost = 0.14760459509723386\n"
     ]
    }
   ],
   "source": [
    "net_relu = MultilayerPerceptron(layers=[784, 100, 100, 10], actFun_type='relu')\n",
    "net_relu.mini_batch_gradient_descent(train_data, batch_size = 16, alpha = 0.01, epochs = 5)"
   ]
  },
  {
   "cell_type": "markdown",
   "metadata": {},
   "source": [
    "An interesting thing here is that the cost becomes stable very fast, but it no longer decreases, staying at a relatively high state of cost."
   ]
  },
  {
   "cell_type": "code",
   "execution_count": 12,
   "metadata": {},
   "outputs": [
    {
     "data": {
      "text/plain": [
       "0.15805801643950496"
      ]
     },
     "execution_count": 12,
     "metadata": {},
     "output_type": "execute_result"
    }
   ],
   "source": [
    "net_relu.MSE(test_data)"
   ]
  },
  {
   "cell_type": "code",
   "execution_count": 13,
   "metadata": {},
   "outputs": [
    {
     "name": "stdout",
     "output_type": "stream",
     "text": [
      "Initial Cost = 1.2751868410856588\n",
      "0 Cost = 0.4389926515932951\n",
      "1 Cost = 0.41590797523548734\n",
      "2 Cost = 0.37609453750028676\n",
      "3 Cost = 0.34173319806309416\n",
      "4 Cost = 0.31370112872508393\n"
     ]
    }
   ],
   "source": [
    "net_sig = MultilayerPerceptron(layers=[784, 100, 100, 10], actFun_type='sigmoid')\n",
    "net_sig.mini_batch_gradient_descent(train_data, batch_size = 16, alpha = 0.01, epochs = 5)"
   ]
  },
  {
   "cell_type": "code",
   "execution_count": 14,
   "metadata": {},
   "outputs": [
    {
     "data": {
      "text/plain": [
       "0.31462196896930544"
      ]
     },
     "execution_count": 14,
     "metadata": {},
     "output_type": "execute_result"
    }
   ],
   "source": [
    "net_sig.MSE(test_data)"
   ]
  },
  {
   "cell_type": "markdown",
   "metadata": {},
   "source": [
    "Comparing three kinds of activation functions while keeping all other hyper-parameters unchanged, *sigmoid* activation function has the best perfomance on the test data."
   ]
  }
 ],
 "metadata": {
  "kernelspec": {
   "display_name": "Python 3.7.6 ('base')",
   "language": "python",
   "name": "python3"
  },
  "language_info": {
   "codemirror_mode": {
    "name": "ipython",
    "version": 3
   },
   "file_extension": ".py",
   "mimetype": "text/x-python",
   "name": "python",
   "nbconvert_exporter": "python",
   "pygments_lexer": "ipython3",
   "version": "3.7.6"
  },
  "orig_nbformat": 4,
  "vscode": {
   "interpreter": {
    "hash": "b09ec625f77bf4fd762565a912b97636504ad6ec901eb2d0f4cf5a7de23e1ee5"
   }
  }
 },
 "nbformat": 4,
 "nbformat_minor": 2
}
