{
 "cells": [
  {
   "cell_type": "markdown",
   "metadata": {},
   "source": [
    "# Ensemble Learning and Random Forest\n",
    "## Language: Python\n",
    "## Author: Zheyi Wang\n",
    "***\n",
    "## Contents\n",
    "- Introduction\n",
    "- Algorithm\n",
    "    - Ensemble Learning\n",
    "    - Bootstrap Aggregating (Bagging)\n",
    "    - Random Forest\n",
    "- Pros and Cons of each algorithm\n",
    "- Code and Application\n",
    "    - Ensembling Learning\n",
    "    - Bagging\n",
    "    - Random Forest\n",
    "***\n",
    "## Introduction\n",
    "[Ensemble methods](https://en.wikipedia.org/wiki/Ensemble_learning) use multiple learning algorithms to obtain better predictive performance, which is predicted by majority of vote for classification or average for regression, than could be obtained from any of the constituent learning algorithms alone. Generally speaking, the models we pick for ensembling will be \"dumb learners\", meaning models that are barely superior to randomly guessing. Individually the models will perform poorly, but collectively will perform well.\n",
    "\n",
    "[Bootstrap aggregating (bagging)](https://www.mastersindatascience.org/learning/machine-learning-algorithms/bootstrapping/) method is used in ensemble learning. Bootstrapping is a method of inferring results for a population from results found on a collection of smaller random samples of that population, using replacement during the sampling process. In the context of machine learning, a given set of machine learning model is trained respectively on random samples of training data with replacement, then the combined predictions of each model is aggregated and used as a single prediction. For regression tasks this would mean taking the average of the set of model prediction, and for classification taking the majority vote.\n",
    "\n",
    "\n",
    "[Random Forest](https://en.wikipedia.org/wiki/Random_forest) Random Forests is an ensemble learning method for classification, regression and other tasks that operates by constructing a multitude of decision trees at training time. It use the predictions of the most trees to generate final predictions, and each decision tree is 'dumb learners' while the random forests ensemble these 'dumb learners' together\n",
    "\n",
    "## Algorigthm\n",
    "### Ensemble Learning\n",
    "Ensemble learning is a general meta approach to machine learning that seeks better predictive performance by combining the predictions from multiple models. It takes the majority vote (for classification) or average (for regression) of all weak learners, as the prediction of ensemble learning model. In order that ensemble methods works, all weak leraners should be uncorrelated with each other as much as possible. Bagging, boosting, and stacking are the most common three classes of ensemble leawrning.\n",
    "\n",
    "### Bagging\n",
    "This procedure of using the bootstrap method is summarized as follows:\n",
    "1. Choose a number of bootstrap samples to perform\n",
    "2. Choose a sample size\n",
    "3. For each bootstrap sample\n",
    "    1. Draw a sample with replacement with the chosen size\n",
    "    2. Fit a model on the data sample\n",
    "4. Aggregate models\n",
    "\n",
    "### Random Forest\n",
    "Apply the general technique of bootstrap aggregating, or bagging, to tree learners. Given a training set $X$ with responses $y$,  repeatedly $B$ times samples with replacements of the training set and fits trees to these samples:\n",
    "For b = 1,...,B:\n",
    "- Sample with replacement $n$ training examples from $X,Y$, as $X_b, Y_b$. \n",
    "- Train a tree $f_b$ on $X_b,y_b$. In each split of a tree, only a random subset of the features are able to be selected. This process is sometimes called \"feature bagging\".\n",
    "\n",
    "After training, predictions for unseen samples $x'$ can be made by averaging the predictions from all the individual regression trees on $x'$:\n",
    "$$ \\hat f = \\cfrac{1}{B} \\sum_{b=1}^{B} f_b(x')$$\n",
    "\n",
    "## Illustraiton by plot\n",
    "### The illustration of bagging method\n",
    "<img src=\"Bootstrapping.png\" width = \"600\" height = \"500\" alt=\"Bootstraping Illustration\" align=center />\n",
    "\n",
    "### The illustration of random forest\n",
    "![avatar](https://www.tibco.com/sites/tibco/files/media_entity/2021-05/random-forest-diagram.svg)\n",
    "\n",
    "## Pros and Cons of Random Forest\n",
    "\n",
    "### Pros\n",
    "- Accuracy of Random forest is generally very high\n",
    "- Its efficiency is particularly Notable in Large Data sets\n",
    "- It works well with both categorical and continuous values\n",
    "- Provides an estimate of important variables in classification\n",
    "- Forests Generated can be saved and reused\n",
    "- Unlike other models It does nt overfit with more features\n",
    "\n",
    "### Cons\n",
    "- It requires much computational power as well as resources as it builds numerous trees to combine their outputs. \n",
    "- It also requires much time for training as it combines a lot of decision trees to determine the class.\n",
    "- Due to the ensemble of decision trees, it also suffers interpretability and fails to determine the significance of each variable.\n",
    "\n",
    "## Code and Applicationt\n",
    "- Dataset: Wine Dataset\n"
   ]
  },
  {
   "cell_type": "markdown",
   "metadata": {},
   "source": [
    "#### import packages"
   ]
  },
  {
   "cell_type": "code",
   "execution_count": 10,
   "metadata": {},
   "outputs": [],
   "source": [
    "import numpy as np\n",
    "import matplotlib.pyplot as plt\n",
    "import pandas as pd\n",
    "from sklearn.datasets import load_wine\n",
    "from sklearn.model_selection import train_test_split\n",
    "\n",
    "from sklearn.ensemble import RandomForestClassifier\n",
    "from sklearn.ensemble import VotingClassifier\n",
    "from sklearn.linear_model import LogisticRegression\n",
    "from sklearn.svm import SVC\n",
    "from sklearn.neural_network import MLPClassifier\n",
    "from sklearn.ensemble import BaggingClassifier\n",
    "from sklearn.tree import DecisionTreeClassifier\n",
    "\n",
    "from sklearn.metrics import accuracy_score\n",
    "from sklearn import metrics\n",
    "import seaborn as sns\n",
    "\n",
    "import warnings"
   ]
  },
  {
   "cell_type": "markdown",
   "metadata": {},
   "source": [
    "Load Wine Dataset"
   ]
  },
  {
   "cell_type": "code",
   "execution_count": 12,
   "metadata": {},
   "outputs": [
    {
     "data": {
      "text/html": [
       "<div>\n",
       "<style scoped>\n",
       "    .dataframe tbody tr th:only-of-type {\n",
       "        vertical-align: middle;\n",
       "    }\n",
       "\n",
       "    .dataframe tbody tr th {\n",
       "        vertical-align: top;\n",
       "    }\n",
       "\n",
       "    .dataframe thead th {\n",
       "        text-align: right;\n",
       "    }\n",
       "</style>\n",
       "<table border=\"1\" class=\"dataframe\">\n",
       "  <thead>\n",
       "    <tr style=\"text-align: right;\">\n",
       "      <th></th>\n",
       "      <th>alcohol</th>\n",
       "      <th>malic_acid</th>\n",
       "      <th>ash</th>\n",
       "      <th>alcalinity_of_ash</th>\n",
       "      <th>magnesium</th>\n",
       "      <th>total_phenols</th>\n",
       "      <th>flavanoids</th>\n",
       "      <th>nonflavanoid_phenols</th>\n",
       "      <th>proanthocyanins</th>\n",
       "      <th>color_intensity</th>\n",
       "      <th>hue</th>\n",
       "      <th>od280/od315_of_diluted_wines</th>\n",
       "      <th>proline</th>\n",
       "    </tr>\n",
       "  </thead>\n",
       "  <tbody>\n",
       "    <tr>\n",
       "      <th>0</th>\n",
       "      <td>14.23</td>\n",
       "      <td>1.71</td>\n",
       "      <td>2.43</td>\n",
       "      <td>15.6</td>\n",
       "      <td>127.0</td>\n",
       "      <td>2.80</td>\n",
       "      <td>3.06</td>\n",
       "      <td>0.28</td>\n",
       "      <td>2.29</td>\n",
       "      <td>5.64</td>\n",
       "      <td>1.04</td>\n",
       "      <td>3.92</td>\n",
       "      <td>1065.0</td>\n",
       "    </tr>\n",
       "    <tr>\n",
       "      <th>1</th>\n",
       "      <td>13.20</td>\n",
       "      <td>1.78</td>\n",
       "      <td>2.14</td>\n",
       "      <td>11.2</td>\n",
       "      <td>100.0</td>\n",
       "      <td>2.65</td>\n",
       "      <td>2.76</td>\n",
       "      <td>0.26</td>\n",
       "      <td>1.28</td>\n",
       "      <td>4.38</td>\n",
       "      <td>1.05</td>\n",
       "      <td>3.40</td>\n",
       "      <td>1050.0</td>\n",
       "    </tr>\n",
       "    <tr>\n",
       "      <th>2</th>\n",
       "      <td>13.16</td>\n",
       "      <td>2.36</td>\n",
       "      <td>2.67</td>\n",
       "      <td>18.6</td>\n",
       "      <td>101.0</td>\n",
       "      <td>2.80</td>\n",
       "      <td>3.24</td>\n",
       "      <td>0.30</td>\n",
       "      <td>2.81</td>\n",
       "      <td>5.68</td>\n",
       "      <td>1.03</td>\n",
       "      <td>3.17</td>\n",
       "      <td>1185.0</td>\n",
       "    </tr>\n",
       "    <tr>\n",
       "      <th>3</th>\n",
       "      <td>14.37</td>\n",
       "      <td>1.95</td>\n",
       "      <td>2.50</td>\n",
       "      <td>16.8</td>\n",
       "      <td>113.0</td>\n",
       "      <td>3.85</td>\n",
       "      <td>3.49</td>\n",
       "      <td>0.24</td>\n",
       "      <td>2.18</td>\n",
       "      <td>7.80</td>\n",
       "      <td>0.86</td>\n",
       "      <td>3.45</td>\n",
       "      <td>1480.0</td>\n",
       "    </tr>\n",
       "    <tr>\n",
       "      <th>4</th>\n",
       "      <td>13.24</td>\n",
       "      <td>2.59</td>\n",
       "      <td>2.87</td>\n",
       "      <td>21.0</td>\n",
       "      <td>118.0</td>\n",
       "      <td>2.80</td>\n",
       "      <td>2.69</td>\n",
       "      <td>0.39</td>\n",
       "      <td>1.82</td>\n",
       "      <td>4.32</td>\n",
       "      <td>1.04</td>\n",
       "      <td>2.93</td>\n",
       "      <td>735.0</td>\n",
       "    </tr>\n",
       "  </tbody>\n",
       "</table>\n",
       "</div>"
      ],
      "text/plain": [
       "   alcohol  malic_acid   ash  alcalinity_of_ash  magnesium  total_phenols  \\\n",
       "0    14.23        1.71  2.43               15.6      127.0           2.80   \n",
       "1    13.20        1.78  2.14               11.2      100.0           2.65   \n",
       "2    13.16        2.36  2.67               18.6      101.0           2.80   \n",
       "3    14.37        1.95  2.50               16.8      113.0           3.85   \n",
       "4    13.24        2.59  2.87               21.0      118.0           2.80   \n",
       "\n",
       "   flavanoids  nonflavanoid_phenols  proanthocyanins  color_intensity   hue  \\\n",
       "0        3.06                  0.28             2.29             5.64  1.04   \n",
       "1        2.76                  0.26             1.28             4.38  1.05   \n",
       "2        3.24                  0.30             2.81             5.68  1.03   \n",
       "3        3.49                  0.24             2.18             7.80  0.86   \n",
       "4        2.69                  0.39             1.82             4.32  1.04   \n",
       "\n",
       "   od280/od315_of_diluted_wines  proline  \n",
       "0                          3.92   1065.0  \n",
       "1                          3.40   1050.0  \n",
       "2                          3.17   1185.0  \n",
       "3                          3.45   1480.0  \n",
       "4                          2.93    735.0  "
      ]
     },
     "execution_count": 12,
     "metadata": {},
     "output_type": "execute_result"
    }
   ],
   "source": [
    "warnings.filterwarnings(\"ignore\")\n",
    "X, y = load_wine(return_X_y=True, as_frame=True)\n",
    "X.head()"
   ]
  },
  {
   "cell_type": "markdown",
   "metadata": {},
   "source": [
    "Split data into training and test set"
   ]
  },
  {
   "cell_type": "code",
   "execution_count": 13,
   "metadata": {},
   "outputs": [],
   "source": [
    "X_train, X_test, y_train, y_test = train_test_split(X, y, test_size=0.4,random_state=0)"
   ]
  },
  {
   "cell_type": "markdown",
   "metadata": {},
   "source": [
    "First let's try logistic regression classifier, SVC classifier and decision tree classifier independently, to check their performances.\n",
    "\n",
    "Use logistic regression classifier, multi-layer perceptron classifier and decision tree classifier to build an ensemble model for classify wine types."
   ]
  },
  {
   "cell_type": "code",
   "execution_count": 14,
   "metadata": {},
   "outputs": [
    {
     "name": "stdout",
     "output_type": "stream",
     "text": [
      "LogisticRegression, accuracy score = 0.9305555555555556\n",
      "RandomForestClassifier, accuracy score = 0.9722222222222222\n",
      "SVC, accuracy score = 0.6805555555555556\n"
     ]
    }
   ],
   "source": [
    "log_clf = LogisticRegression()\n",
    "rnd_clf =RandomForestClassifier()\n",
    "svm_clf = SVC()\n",
    "models = [log_clf,rnd_clf,svm_clf]\n",
    "for clf in models:\n",
    "    clf.fit(X_train,y_train)\n",
    "    y_pred = clf.predict(X_test)\n",
    "    print(f'{clf.__class__.__name__}, accuracy score = {accuracy_score(y_test, y_pred)}')\n",
    "\n",
    "    \n"
   ]
  },
  {
   "cell_type": "markdown",
   "metadata": {},
   "source": [
    "Looks like logistic regrssion and random forest has a better performance, but SVM performs not so well.\n",
    "\n",
    "Then, plot the confusion matrice of three models."
   ]
  },
  {
   "cell_type": "code",
   "execution_count": 24,
   "metadata": {},
   "outputs": [
    {
     "data": {
      "image/png": "[encoded data removed]",
      "text/plain": [
       "<Figure size 432x288 with 2 Axes>"
      ]
     },
     "metadata": {},
     "output_type": "display_data"
    },
    {
     "data": {
      "image/png": "[encoded data removed]",
      "text/plain": [
       "<Figure size 432x288 with 2 Axes>"
      ]
     },
     "metadata": {},
     "output_type": "display_data"
    },
    {
     "data": {
      "image/png": "[encoded data removed]",
      "text/plain": [
       "<Figure size 432x288 with 2 Axes>"
      ]
     },
     "metadata": {},
     "output_type": "display_data"
    }
   ],
   "source": [
    "for clf in models:\n",
    "    clf.fit(X_train, y_train)\n",
    "    y_pred = clf.predict(X_test)\n",
    "    confusion_matrix = metrics.confusion_matrix(y_test, y_pred)\n",
    "\n",
    "    matrix_df = pd.DataFrame(confusion_matrix)\n",
    "\n",
    "    plt.figure()\n",
    "    ax=plt.axes()\n",
    "    sns.set(font_scale=1.3)\n",
    "\n",
    "    sns.heatmap(matrix_df, annot=True, fmt='g', ax=ax, cmap='Greys')\n",
    "    ax.set_title(f'Confusion Matrix of {clf.__class__.__name__}')\n",
    "    ax.set_xlabel('predicted label', fontsize=10)\n",
    "    ax.set_ylabel('True label', fontsize=10)\n",
    "    plt.show()"
   ]
  },
  {
   "cell_type": "markdown",
   "metadata": {},
   "source": [
    "Logistic Regression and Random Forest have similar predictions, but SVC tend to wrongly predict 2 as 1, which accounts most of errors in predictions."
   ]
  },
  {
   "cell_type": "code",
   "execution_count": 31,
   "metadata": {},
   "outputs": [
    {
     "name": "stdout",
     "output_type": "stream",
     "text": [
      "voting classifier accuracy:0.9583333333333334\n"
     ]
    }
   ],
   "source": [
    "voting_clf = VotingClassifier(\n",
    "    estimators=[(\"lr\",log_clf),(\"rf\",rnd_clf),(\"svm\",svm_clf)]\n",
    "    ,voting = \"hard\")\n",
    "\n",
    "voting_clf.fit(X_train,y_train)\n",
    "y_pred = voting_clf.predict(X_test)\n",
    "print(f\"voting classifier accuracy:{accuracy_score(y_test,y_predict)}\")"
   ]
  },
  {
   "cell_type": "markdown",
   "metadata": {},
   "source": [
    "The voting classifier's accuracy is higher than logistic but lower than random forest.\n",
    "\n",
    "Then, we check the confusion matrix"
   ]
  },
  {
   "cell_type": "code",
   "execution_count": 32,
   "metadata": {},
   "outputs": [
    {
     "data": {
      "image/png": "[encoded data removed]",
      "text/plain": [
       "<Figure size 432x288 with 2 Axes>"
      ]
     },
     "metadata": {},
     "output_type": "display_data"
    }
   ],
   "source": [
    "confusion_matrix = metrics.confusion_matrix(y_test, y_pred)\n",
    "\n",
    "matrix_df = pd.DataFrame(confusion_matrix)\n",
    "\n",
    "plt.figure()\n",
    "ax=plt.axes()\n",
    "sns.set(font_scale=1.3)\n",
    "\n",
    "sns.heatmap(matrix_df, annot=True, fmt='g', ax=ax, cmap='Greys')\n",
    "ax.set_title('Confusion Matrix of Ensemble Model')\n",
    "ax.set_xlabel('predicted label', fontsize=10)\n",
    "ax.set_ylabel('True label', fontsize=10)\n",
    "plt.show()"
   ]
  },
  {
   "cell_type": "markdown",
   "metadata": {},
   "source": [
    "### Bagging(Bootstrap Aggregating) with Decision Tree\n",
    "\n",
    "We train each decision tree learner on a random subset of the training data set (with replacement)"
   ]
  },
  {
   "cell_type": "code",
   "execution_count": 33,
   "metadata": {},
   "outputs": [
    {
     "name": "stdout",
     "output_type": "stream",
     "text": [
      "BaggingClassifier, accuracy score = 0.9722222222222222\n"
     ]
    }
   ],
   "source": [
    "bag_clf = BaggingClassifier(DecisionTreeClassifier(), n_estimators=100, max_samples=100, bootstrap=True, n_jobs=-1)\n",
    "bag_clf.fit(X_train, y_train)\n",
    "y_pred = bag_clf.predict(X_test)\n",
    "print(f'{bag_clf.__class__.__name__}, accuracy score = {accuracy_score(y_test, y_pred)}')"
   ]
  },
  {
   "cell_type": "markdown",
   "metadata": {},
   "source": [
    "The accuracy shows that the bagging model performs as same as the random forest, but better than ensemble classifier.\n",
    "Then, we check the confusion matrix"
   ]
  },
  {
   "cell_type": "code",
   "execution_count": null,
   "metadata": {},
   "outputs": [],
   "source": [
    "confusion_matrix = metrics.confusion_matrix(y_test, y_pred)\n",
    "\n",
    "matrix_df = pd.DataFrame(confusion_matrix)\n",
    "\n",
    "plt.figure(figsize=(5,4))\n",
    "ax=plt.axes()\n",
    "sns.set(font_scale=1.3)\n",
    "\n",
    "sns.heatmap(matrix_df, annot=True, fmt='g', ax=ax, cmap='magma')\n",
    "ax.set_title('Confusion Matrix of Decision Tree')\n",
    "ax.set_xlabel('predicted label', fontsize=10)\n",
    "ax.set_ylabel('True label', fontsize=10)\n",
    "plt.show()"
   ]
  },
  {
   "cell_type": "markdown",
   "metadata": {},
   "source": [
    "Random Forest"
   ]
  },
  {
   "cell_type": "code",
   "execution_count": null,
   "metadata": {},
   "outputs": [],
   "source": [
    "rnd_clf = RandomForestClassifier()\n",
    "rnd_clf.fit(X_train, y_train)\n",
    "y_pred = rnd_clf.predict(X_test)\n",
    "print(f'{rnd_clf.__class__.__name__}, accuracy score = {accuracy_score(y_test, y_pred)}')"
   ]
  },
  {
   "cell_type": "code",
   "execution_count": null,
   "metadata": {},
   "outputs": [],
   "source": [
    "confusion_matrix = metrics.confusion_matrix(y_test, y_pred)\n",
    "\n",
    "matrix_df = pd.DataFrame(confusion_matrix)\n",
    "\n",
    "plt.figure()\n",
    "ax=plt.axes()\n",
    "sns.set(font_scale=1.3)\n",
    "\n",
    "sns.heatmap(matrix_df, annot=True, fmt='g', ax=ax, cmap='magma')\n",
    "ax.set_title('Confusion Matrix of Decision Tree')\n",
    "ax.set_xlabel('predicted label', fontsize=10)\n",
    "ax.set_ylabel('True label', fontsize=10)\n",
    "plt.show()"
   ]
  },
  {
   "cell_type": "markdown",
   "metadata": {},
   "source": [
    "The Random Forest has the same accuracy as bagging method. It might be the reason that this dataset is realative easy to classify, and random forest has already done well. Thus, bagging method barely has improvement. Besides, bagging method and random forest are basically the same algorithm, which might explain why they have the same prediction accuracy.\n",
    "\n",
    "Let's see the feature importance in the random forest model."
   ]
  },
  {
   "cell_type": "code",
   "execution_count": 54,
   "metadata": {},
   "outputs": [
    {
     "name": "stdout",
     "output_type": "stream",
     "text": [
      "The feature importance shown in descending order is \n",
      "number 1, color_intensity,importance value = 0.171\n",
      "number 2, flavanoids,importance value = 0.147\n",
      "number 3, alcohol,importance value = 0.142\n",
      "number 4, proline,importance value = 0.128\n",
      "number 5, od280/od315_of_diluted_wines,importance value = 0.127\n",
      "number 6, hue,importance value = 0.09\n",
      "number 7, total_phenols,importance value = 0.081\n",
      "number 8, alcalinity_of_ash,importance value = 0.039\n",
      "number 9, malic_acid,importance value = 0.027\n",
      "number 10, proanthocyanins,importance value = 0.014\n",
      "number 11, nonflavanoid_phenols,importance value = 0.013\n",
      "number 12, magnesium,importance value = 0.013\n",
      "number 13, ash,importance value = 0.008\n"
     ]
    }
   ],
   "source": [
    "from numpy import sort\n",
    "\n",
    "\n",
    "f_importance = rnd_clf.feature_importances_\n",
    "features = X.columns\n",
    "f_imp_dict = dict(zip(list(features),list(f_importance)))\n",
    "#f_imp_dict = {features[i]: f_importance[i] for i in range(len(features))}\n",
    "sorted_dict = sorted(f_imp_dict.items(), key= lambda kv:(kv[1],kv[0]),reverse=True)\n",
    "\n",
    "print('The feature importance shown in descending order is ')\n",
    "for i in range(len(sorted_dict)):\n",
    "    print(f'number {i+1}, {sorted_dict[i][0]},importance value = {round(sorted_dict[i][1],3)}')"
   ]
  }
 ],
 "metadata": {
  "kernelspec": {
   "display_name": "Python 3.7.6 ('base')",
   "language": "python",
   "name": "python3"
  },
  "language_info": {
   "codemirror_mode": {
    "name": "ipython",
    "version": 3
   },
   "file_extension": ".py",
   "mimetype": "text/x-python",
   "name": "python",
   "nbconvert_exporter": "python",
   "pygments_lexer": "ipython3",
   "version": "3.7.6"
  },
  "orig_nbformat": 4,
  "vscode": {
   "interpreter": {
    "hash": "b09ec625f77bf4fd762565a912b97636504ad6ec901eb2d0f4cf5a7de23e1ee5"
   }
  }
 },
 "nbformat": 4,
 "nbformat_minor": 2
}
