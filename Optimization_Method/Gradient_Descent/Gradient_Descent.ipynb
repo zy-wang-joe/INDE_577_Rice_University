{
 "cells": [
  {
   "cell_type": "markdown",
   "metadata": {},
   "source": [
    "## Gradient Descent Algorithm and Applications\n",
    "#### Author: Zheyi Wang"
   ]
  },
  {
   "cell_type": "markdown",
   "metadata": {},
   "source": [
    "### Table of Contents\n",
    "\n",
    "- Introduction\n",
    "- Algorithm\n",
    "  - General Algorithm\n",
    "  - Algorithm for Linear Regression\n",
    "- Illustration\n",
    "- Advantages and Disadvantages\n",
    "    - Advantages\n",
    "    - Disadvantages\n",
    "- Code of gradient descent\n",
    "- Applications on data sets\n",
    "    - Ethereum (ETH) price data"
   ]
  },
  {
   "cell_type": "markdown",
   "metadata": {},
   "source": [
    "---\n",
    "### Introduction <a class=\"anchor\" id=\"Introduction\"></a>\n",
    "In this section we focus on a straight-forward optimization method, gradient descent. The main idea of gradient Descent is to take repeated steps in the opposite direction of the gradient of the function at the current point, because this is the direction of steepest descent. Conversely, stepping in the direction of the gradient will lead to a local maximum of that function.\n",
    "\n",
    "(From Wikipedia) [Gradient descent](https://en.wikipedia.org/wiki/Gradient_descent) is a classic and old optimization method, back to 1800's, which is generally attributed to [Cauchy](https://en.wikipedia.org/wiki/Augustin-Louis_Cauchy), who first suggested it in [1847](https://www.math.uni-bielefeld.de/documenta/vol-ismp/40_lemarechal-claude.pdf). [Hadamard](https://en.wikipedia.org/wiki/Jacques_Hadamard) independently proposed a similar method in 1907. The method became increasingly well-studied and used in the following decades.\n",
    "\n",
    "Gradient descent is widely used in most optimization tasks, especially finding solutions of loss functions. It plays a crucial role in the field of machine learning, as most machine learning models concrete a loss function and they all have the same goal: find the parameters that minimize the loss function, and gradient descent can be applied for most all kinds of minimization tasks. Hence gradient descent is one of the fundamental methods in machine-learning algorithms due to its simplicity and well-known properties."
   ]
  },
  {
   "cell_type": "markdown",
   "metadata": {},
   "source": [
    "---\n",
    "\n",
    "### Algorithm <a class=\"anchor\" id=\"Algorithm\"></a>\n",
    "The ideas of gradient descent is really simple: find the direction (negative first derivative) of the goal function, then move a step towards the direction, iteratively doing these until reach an ideal solution. \n",
    "\n",
    "(From [Wikipedia](https://en.wikipedia.org/wiki/Gradient_descent)) Gradient descent is based on the observation that if the multi-variable function $F(\\mathbf {x})$ is defined and differentiable in a neighborhood of a point $\\mathbf {a}$, then $F(\\mathbf {x})$ decreases fastest if one goes from $\\mathbf {a}$  in the direction of the negative gradient of $F(\\mathbf {\\mathbf {a}})$, $-\\nabla F(\\mathbf {a})$. It follows that, if\n",
    "$$\n",
    "\\mathbf{a}_{n+1} = \\mathbf{a}_n-\\gamma\\nabla F(\\mathbf{a}_n)\n",
    "$$\n",
    "\n",
    "for a small enough step size or learning rate $\\gamma \\in \\R_{+}$, then  $F(\\mathbf{a_n})\\geq F(\\mathbf{a_{n+1}})$. In other words, the term $\\gamma\\nabla F(\\mathbf{a})$ is subtracted from $\\mathbf{a}$ because we want to move against the gradient, toward the local minimum. With this observation in mind, one starts with a guess $\\mathbf{x}_0$ for a local minimum of $F$, and considers the sequence $\\mathbf{x}_0, \\mathbf{x}_1, \\mathbf{x}_2, \\ldots$ such that\n",
    "\n",
    "$$\n",
    "\\mathbf{x}_{n+1}=\\mathbf{x}_n-\\gamma_n \\nabla F(\\mathbf{x}_n),\\ n \\ge 0.\n",
    "$$\n",
    "\n",
    "We have a Monotonic function sequence\n",
    "\n",
    "$F(\\mathbf{x}_0)\\ge F(\\mathbf{x}_1)\\ge F(\\mathbf{x}_2)\\ge \\cdots$\n",
    "\n",
    "So hopefully, the sequence $(\\mathbf {x} _{n})$ converges to the desired local minimum. Note that the value of the step size $\\gamma$ is allowed to change at every iteration. With certain assumptions on the function $F$ (for example, $F$ convex and $\\nabla F$ Lipschitz) and particular choices of $\\gamma$, convergence to a local minimum can be guaranteed. When the function $F$ is convex, all local minima are also global minima, so in this case gradient descent can converge to the global solution."
   ]
  },
  {
   "cell_type": "markdown",
   "metadata": {},
   "source": [
    "#### Algorithm for Linear Regression <a class=\"anchor\" id=\"Linear_Regression\"></a>\n",
    "\n",
    "$F$ can be any close-form function that is differentiable. For linear regression model, the residual sum of squares\n",
    "\n",
    "$$\n",
    "RSS(\\boldsymbol{\\beta}) = \\sum_{i=1}^n {\\epsilon_i^2} =\\sum_{i=1}^n (y_i - \\beta_0 - \\sum_{j=1}^{p} {\\beta_j x_{ij}})^2\n",
    "$$\n",
    "\n",
    "is minimized to find the coefficients $\\boldsymbol{\\beta}$. Thus we can apply gradient descent method to find the minimun of $RSS$, rather than find the solution directly.\n",
    "\n",
    "To cancel out the scaler term during the derivative calculation, we add an $\\frac{1}{2}$ term in $RSS$. \n",
    "\n",
    "The algorithm for linear regression is as follows\n",
    "\n",
    "1. Define the loss(cost) function\n",
    "$$\n",
    "L(\\boldsymbol{\\beta}) = \\frac{1}{2} RSS(\\boldsymbol{\\beta}) = \\frac{1}{2} \\sum_{i=1}^n (y_i - \\beta_0 - \\sum_{j=1}^{p} {\\beta_j x_{ij}})^2\n",
    "$$\n",
    "\n",
    "In matrix form\n",
    "$$\n",
    "L(\\boldsymbol{\\beta}) = \\frac{1}{2} (\\textbf{y}-\\textbf{X}\\boldsymbol{\\beta})^T (\\textbf{y}-\\textbf{X}\\boldsymbol{\\beta})\n",
    "$$\n",
    "\n",
    "1. Take derivatives w.r.t. $\\beta_0, \\cdots, \\beta_p$\n",
    "$$\n",
    "\\frac{\\partial L}{\\partial \\beta_0} = \\sum_{i=1}^{n}(\\beta_0 + \\sum_{j=1}^{p} {\\beta_j x_{ij}} - y_{i})\n",
    "$$\n",
    "$$\n",
    "\\frac{\\partial L}{\\partial \\beta_j} = \\sum_{i=1}^{n}(\\beta_0 + \\sum_{j=1}^{p} {\\beta_j x_{ij}} - y_{i})x_{ij},  j=1 \\dots p\n",
    "$$\n",
    "\n",
    "In matrix form we have\n",
    "$$\n",
    "\\frac{\\partial L} {\\partial \\boldsymbol{\\beta}} = - \\textbf{X}^T (\\textbf{y}-\\textbf{X}\\boldsymbol{\\beta})\n",
    "$$\n",
    "\n",
    "3. Set a learning rate $\\gamma$ and initialize random weights $\\beta_0, \\cdots, \\beta_p$, then iteratively do the following\n",
    "$$\n",
    "\\beta_0 = \\beta_0 - \\gamma \\frac{\\partial L}{\\partial \\beta_0}\n",
    "$$\n",
    "$$\n",
    "\\beta_j = \\beta_j - \\gamma \\frac{\\partial L}{\\partial \\beta_j}, j=1 \\dots p\n",
    "$$\n",
    "\n",
    "In matrix form we have\n",
    "$$\n",
    "\\boldsymbol{\\beta} = \\boldsymbol{\\beta} - \\gamma \\frac{\\partial L}{\\partial \\boldsymbol{\\beta}}\n",
    "$$\n",
    "\n",
    "until a maximun number of training steps $N$ is reached or a threshold $\\eta$ of change of loss between two trainning steps is met.\n",
    "\n",
    "4. Return $\\beta_0, \\cdots, \\beta_p$.\n",
    "\n",
    "Notice that we need to initialize a learning rate $\\gamma$, random weights $\\beta_0, \\cdots, \\beta_p$, and set a maximun number of training steps $N$, a threshold $\\eta$ before training. These initial parameters are crucial in gradient descent, as they largely impact the convergence speed and process. A good initialization can make convergence really fast. \n",
    "\n",
    "Usually \n",
    "* $\\gamma$ should decrease along the training process, or it's easy to go cross the local minimum\n",
    "* $\\beta_0, \\cdots, \\beta_p$ should be close to $0$ but not $0$. \n",
    "* $N$ could be large, to make sure the training reaches convergence.\n",
    "* $\\eta$ should be small enough"
   ]
  },
  {
   "cell_type": "markdown",
   "metadata": {},
   "source": [
    "---\n",
    "\n",
    "### Illustration <a class=\"anchor\" id=\"Illustration\"></a>\n",
    "\n",
    "Take a look at the two-dimension space, we can have a intuitive idea about how gradient descent works.\n",
    "\n",
    "Let the parameter $w$ be in one-dimensional space, and given a close-form cost function $L$. The $L-w$ plot, by *Machine Learning Glossary* ([link](http://sebastianruder.com/optimizing-gradient-descent/)), is below. It shows that how a initial random weight $w$ is moving towards the local minimum of cost function $L$ step by step using gradient descent, and at the final step, a certain threshold is met and the training process ends, returning a good weight $w$."
   ]
  },
  {
   "cell_type": "markdown",
   "metadata": {},
   "source": [
    "![gradient_descent](images/gradient_descent_illustration.png)\n"
   ]
  },
  {
   "cell_type": "markdown",
   "metadata": {},
   "source": [
    "---\n",
    "\n",
    "### Advantages and Disadvantages <a class=\"anchor\" id=\"Advantages_and_Disadvantages\"></a>\n",
    "\n",
    "#### Advantages: <a class=\"anchor\" id=\"Advantages\"></a>\n",
    "\n",
    "* Easy and Simple. Gradient descent is based on simple theoretical analysis of weights and convergence rates, which are easy to understand.\n",
    "* Guarantee Convergence. Gradient descent is proved to converge to local minimum, which is exactly what most machine learning algorithms need.\n",
    "\n",
    "\n",
    "\n",
    "\n",
    "#### Disadvantages: <a class=\"anchor\" id=\"Disadvantages\"></a>\n",
    "\n",
    "* Computationally Expensive. Gradient descent takes all training sample to calculate the derivative of loss function, which performs redundant computation for the same training example for large datasets.\n",
    "* Cost Lots of Memory. Gradient descent can be very slow and intractable as large datasets may not fit in the memory."
   ]
  },
  {
   "cell_type": "markdown",
   "metadata": {},
   "source": [
    "---\n",
    "\n",
    "### Code of gradient descent <a class=\"anchor\" id=\"Code\"></a>\n",
    "\n",
    "#### All packages used in this notebook\n",
    "* [numpy](https://numpy.org/)\n",
    "* [pandas](https://pandas.pydata.org/)\n",
    "* [pandas_datareader](https://pandas-datareader.readthedocs.io/en/latest/)\n",
    "* [sklearn](https://scikit-learn.org/stable/datasets/toy_dataset.html)\n",
    "* [matplotlib](https://matplotlib.org/)"
   ]
  },
  {
   "cell_type": "code",
   "execution_count": 1,
   "metadata": {},
   "outputs": [],
   "source": [
    "import numpy as np\n",
    "import pandas as pd\n",
    "import matplotlib.pyplot as plt\n",
    "import pandas_datareader as web\n",
    "from sklearn.preprocessing import StandardScaler"
   ]
  },
  {
   "cell_type": "markdown",
   "metadata": {},
   "source": [
    "#### function of gradient descent of linear regression"
   ]
  },
  {
   "cell_type": "code",
   "execution_count": 2,
   "metadata": {},
   "outputs": [],
   "source": [
    "class gradient_descent_LR():\n",
    "    def __init__(self) -> None:\n",
    "        self.X = None\n",
    "        self.variables = None\n",
    "        self.y = None\n",
    "        self.predictor = None\n",
    "        self.n = None\n",
    "        self.p = None\n",
    "        self.bias = None\n",
    "        self.gamma = None\n",
    "        self.max_iter = None\n",
    "        self.eta = None\n",
    "\n",
    "        self.weights = None\n",
    "        self.weights_history = []\n",
    "        self.loss_history = [np.inf]\n",
    "        \n",
    "    def loss(self):\n",
    "        MSE_loss = 0.5 * (self.y - self.X @ self.weights).T@(self.y - self.X @ self.weights)\n",
    "        return MSE_loss\n",
    "\n",
    "    def gradient_L(self):\n",
    "        d_w = - self.X.T @ (self.y - self.X@self.weights)\n",
    "        return d_w\n",
    "\n",
    "    def fit(self, X, y, bias=True, gamma=0.01, max_iter=100, eta=0.001):\n",
    "        self.variables = X.columns\n",
    "        self.predictor = y.name\n",
    "        \n",
    "        X = X.to_numpy()\n",
    "        y = y.to_numpy()\n",
    "        if bias:\n",
    "            ones_column = np.ones((X.shape[0], 1))\n",
    "            X = np.append(ones_column, X, axis=1)\n",
    "        self.X = X\n",
    "        self.y = y\n",
    "        self.n = X.shape[0]\n",
    "        self.p = X.shape[1]\n",
    "        self.bias = bias\n",
    "        self.gamma = gamma\n",
    "        self.max_iter = max_iter\n",
    "        self.eta = eta\n",
    "        \n",
    "        weights = np.random.rand(self.p)\n",
    "        self.weights = weights\n",
    "        self.weights_history.append(weights)\n",
    "        for i in range(1, max_iter+1):\n",
    "            dw = self.gradient_L()\n",
    "            weights = weights - gamma * dw\n",
    "            self.weights = weights\n",
    "            self.weights_history.append(weights)\n",
    "            L = self.loss()\n",
    "            self.loss_history.append(L)\n",
    "            if i >= self.max_iter or abs(L - self.loss_history[i-1]) <= self.eta:\n",
    "                break\n",
    "\n",
    "    def prediction(self, X, weights):\n",
    "        X = X.to_numpy()\n",
    "        if self.bias:\n",
    "            ones_column = np.ones((X.shape[0], 1))\n",
    "            X = np.append(ones_column, X, axis=1)\n",
    "        return X @ weights\n",
    "\n"
   ]
  },
  {
   "cell_type": "markdown",
   "metadata": {},
   "source": [
    "\n",
    "### Applications on data sets\n",
    "- Ethereum (ETH) price data\n"
   ]
  },
  {
   "cell_type": "markdown",
   "metadata": {},
   "source": [
    "\n",
    "#### Ethereum (ETH) price data <a class=\"anchor\" id=\"ETH\"></a>\n",
    "\n",
    "\n",
    "We apply our gradient descent method on fitting the linear regression model of predicting ETH price in Linear Regression section. [Ethereum](https://en.wikipedia.org/wiki/Ethereum) (by wikipedia) is a decentralized, open-source blockchain with smart contract functionality. Ether (ETH) is the native cryptocurrency of the platform. Amongst cryptocurrencies, Ether is second only to Bitcoin in market capitalization. \n",
    "\n",
    "Nowadays prices of Ethereum and other cryptocurrencies are increasing rapidly, so they are becoming more and more popular among traders and investors."
   ]
  },
  {
   "cell_type": "markdown",
   "metadata": {},
   "source": [
    "In this problem we focus on predicting future ETH price using history ETH prices from *pandas_datareader*. And we use *plotly* to plot nice figures.\n",
    "\n",
    "First we take a look at the ETH price in USD from Jan to Nov, 2021."
   ]
  },
  {
   "cell_type": "code",
   "execution_count": 3,
   "metadata": {},
   "outputs": [
    {
     "data": {
      "text/html": [
       "<div>\n",
       "<style scoped>\n",
       "    .dataframe tbody tr th:only-of-type {\n",
       "        vertical-align: middle;\n",
       "    }\n",
       "\n",
       "    .dataframe tbody tr th {\n",
       "        vertical-align: top;\n",
       "    }\n",
       "\n",
       "    .dataframe thead th {\n",
       "        text-align: right;\n",
       "    }\n",
       "</style>\n",
       "<table border=\"1\" class=\"dataframe\">\n",
       "  <thead>\n",
       "    <tr style=\"text-align: right;\">\n",
       "      <th></th>\n",
       "      <th>High</th>\n",
       "      <th>Low</th>\n",
       "      <th>Open</th>\n",
       "      <th>Close</th>\n",
       "      <th>Volume</th>\n",
       "      <th>Adj Close</th>\n",
       "    </tr>\n",
       "    <tr>\n",
       "      <th>Date</th>\n",
       "      <th></th>\n",
       "      <th></th>\n",
       "      <th></th>\n",
       "      <th></th>\n",
       "      <th></th>\n",
       "      <th></th>\n",
       "    </tr>\n",
       "  </thead>\n",
       "  <tbody>\n",
       "    <tr>\n",
       "      <th>2021-01-01</th>\n",
       "      <td>749.201843</td>\n",
       "      <td>719.792236</td>\n",
       "      <td>737.708374</td>\n",
       "      <td>730.367554</td>\n",
       "      <td>13652004358</td>\n",
       "      <td>730.367554</td>\n",
       "    </tr>\n",
       "    <tr>\n",
       "      <th>2021-01-02</th>\n",
       "      <td>786.798462</td>\n",
       "      <td>718.109497</td>\n",
       "      <td>730.402649</td>\n",
       "      <td>774.534973</td>\n",
       "      <td>19740771179</td>\n",
       "      <td>774.534973</td>\n",
       "    </tr>\n",
       "    <tr>\n",
       "      <th>2021-01-03</th>\n",
       "      <td>1006.565002</td>\n",
       "      <td>771.561646</td>\n",
       "      <td>774.511841</td>\n",
       "      <td>975.507690</td>\n",
       "      <td>45200463368</td>\n",
       "      <td>975.507690</td>\n",
       "    </tr>\n",
       "  </tbody>\n",
       "</table>\n",
       "</div>"
      ],
      "text/plain": [
       "                   High         Low        Open       Close       Volume  \\\n",
       "Date                                                                       \n",
       "2021-01-01   749.201843  719.792236  737.708374  730.367554  13652004358   \n",
       "2021-01-02   786.798462  718.109497  730.402649  774.534973  19740771179   \n",
       "2021-01-03  1006.565002  771.561646  774.511841  975.507690  45200463368   \n",
       "\n",
       "             Adj Close  \n",
       "Date                    \n",
       "2021-01-01  730.367554  \n",
       "2021-01-02  774.534973  \n",
       "2021-01-03  975.507690  "
      ]
     },
     "execution_count": 3,
     "metadata": {},
     "output_type": "execute_result"
    }
   ],
   "source": [
    "data = web.DataReader('ETH-USD',\n",
    "                     'yahoo',\n",
    "                     start = '2021-01-01',\n",
    "                     end = '2021-11-30')\n",
    "data.head(3)"
   ]
  },
  {
   "cell_type": "markdown",
   "metadata": {},
   "source": [
    "Our goal is to predict close price using previous prices of 3-days. Plot the close price curve of ETH."
   ]
  },
  {
   "cell_type": "code",
   "execution_count": 4,
   "metadata": {},
   "outputs": [
    {
     "data": {
      "image/png": "[encoded data removed]",
      "text/plain": [
       "<Figure size 432x288 with 1 Axes>"
      ]
     },
     "metadata": {
      "needs_background": "light"
     },
     "output_type": "display_data"
    }
   ],
   "source": [
    "all_df = pd.DataFrame(data['Close'])\n",
    "plt.plot(all_df)\n",
    "plt.show()"
   ]
  },
  {
   "cell_type": "markdown",
   "metadata": {},
   "source": [
    "Create our input data set, only use the first 1 month."
   ]
  },
  {
   "cell_type": "code",
   "execution_count": 5,
   "metadata": {},
   "outputs": [],
   "source": [
    "for i in range(1, 8):\n",
    "    all_df[f'lag_{i}'] = all_df['Close'].shift(i)\n",
    "\n",
    "all_df.dropna(inplace=True)\n",
    "cols = [f'lag_{i}' for i in range(1, 8)]\n",
    "\n",
    "train_df = all_df.iloc[0:31-7, :]\n",
    "X = train_df[cols]\n",
    "y = train_df['Close']"
   ]
  },
  {
   "cell_type": "markdown",
   "metadata": {},
   "source": [
    "Scale X to reduce computational complexity when multiplying matrice."
   ]
  },
  {
   "cell_type": "code",
   "execution_count": 6,
   "metadata": {},
   "outputs": [],
   "source": [
    "X_scaler = StandardScaler()\n",
    "X_scaled = pd.DataFrame(X_scaler.fit_transform(X))"
   ]
  },
  {
   "cell_type": "markdown",
   "metadata": {},
   "source": [
    "Try our gradient descent method."
   ]
  },
  {
   "cell_type": "code",
   "execution_count": 7,
   "metadata": {},
   "outputs": [
    {
     "data": {
      "image/png": "[encoded data removed]",
      "text/plain": [
       "<Figure size 432x288 with 1 Axes>"
      ]
     },
     "metadata": {
      "needs_background": "light"
     },
     "output_type": "display_data"
    }
   ],
   "source": [
    "model = gradient_descent_LR()\n",
    "model.fit(X_scaled, y, gamma=0.005, max_iter=100, eta=0.001)\n",
    "plt.plot(range(1, len(model.loss_history)), model.loss_history[1:len(model.loss_history)], c='r')\n",
    "plt.xlabel('iteration')\n",
    "plt.ylabel('loss')\n",
    "plt.show()"
   ]
  },
  {
   "cell_type": "markdown",
   "metadata": {},
   "source": [
    "A good fit. Looks like gradient descent works well on the same data in the Linear Regression section. Let's plot the prediction curve."
   ]
  },
  {
   "cell_type": "code",
   "execution_count": 8,
   "metadata": {},
   "outputs": [
    {
     "data": {
      "image/png": "[encoded data removed]",
      "text/plain": [
       "<Figure size 432x288 with 1 Axes>"
      ]
     },
     "metadata": {
      "needs_background": "light"
     },
     "output_type": "display_data"
    }
   ],
   "source": [
    "plt.plot(y.index, y, c='b', label = \"true\")\n",
    "plt.plot(y.index, model.prediction(X_scaled, model.weights), c='r', label = \"prediction\")\n",
    "plt.legend()\n",
    "plt.show()"
   ]
  },
  {
   "cell_type": "markdown",
   "metadata": {},
   "source": [
    "Not a bad prediction, and the result is similar to the result in the Linear Regression section, so gradient descent works well."
   ]
  }
 ],
 "metadata": {
  "kernelspec": {
   "display_name": "Python 3.7.6 ('base')",
   "language": "python",
   "name": "python3"
  },
  "language_info": {
   "codemirror_mode": {
    "name": "ipython",
    "version": 3
   },
   "file_extension": ".py",
   "mimetype": "text/x-python",
   "name": "python",
   "nbconvert_exporter": "python",
   "pygments_lexer": "ipython3",
   "version": "3.7.6"
  },
  "orig_nbformat": 4,
  "vscode": {
   "interpreter": {
    "hash": "b09ec625f77bf4fd762565a912b97636504ad6ec901eb2d0f4cf5a7de23e1ee5"
   }
  }
 },
 "nbformat": 4,
 "nbformat_minor": 2
}
